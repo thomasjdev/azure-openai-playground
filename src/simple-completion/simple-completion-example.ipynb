{
 "cells": [
  {
   "cell_type": "markdown",
   "source": [
    "# Azure OpenAI Playground"
   ],
   "metadata": {
    "collapsed": false
   },
   "id": "5f5c97308c95736d"
  },
  {
   "cell_type": "code",
   "outputs": [],
   "source": [
    "import json\n",
    "import os\n",
    "import openai"
   ],
   "metadata": {
    "collapsed": true,
    "ExecuteTime": {
     "end_time": "2024-03-06T02:32:04.591161Z",
     "start_time": "2024-03-06T02:32:04.407051Z"
    }
   },
   "id": "initial_id",
   "execution_count": 1
  },
  {
   "cell_type": "markdown",
   "source": [
    "# Prep the environment configuration"
   ],
   "metadata": {
    "collapsed": false
   },
   "id": "18934ca6dd158478"
  },
  {
   "cell_type": "code",
   "outputs": [
    {
     "data": {
      "text/plain": "True"
     },
     "execution_count": 2,
     "metadata": {},
     "output_type": "execute_result"
    }
   ],
   "source": [
    "from dotenv import load_dotenv\n",
    "load_dotenv()"
   ],
   "metadata": {
    "collapsed": false,
    "ExecuteTime": {
     "end_time": "2024-03-06T02:32:04.597810Z",
     "start_time": "2024-03-06T02:32:04.592535Z"
    }
   },
   "id": "fa52fb2fda276670",
   "execution_count": 2
  },
  {
   "cell_type": "markdown",
   "source": [
    "# Create a new prompt session we can interact with"
   ],
   "metadata": {
    "collapsed": false
   },
   "id": "8e1a6096c9406396"
  },
  {
   "cell_type": "code",
   "outputs": [
    {
     "name": "stdout",
     "output_type": "stream",
     "text": [
      "Hello, user! How can I assist you today?\n"
     ]
    }
   ],
   "source": [
    "try:\n",
    "    \n",
    "    client = openai.AzureOpenAI(\n",
    "        azure_endpoint=os.getenv(\"AZURE_OPENAI_ENDPOINT\"),\n",
    "        api_key=os.getenv(\"AZURE_OPENAI_API_KEY\"),\n",
    "        api_version=os.getenv(\"AZURE_OPENAI_API_VERSION\")\n",
    "    )\n",
    "    \n",
    "    message_text = [\n",
    "        {\n",
    "            \"role\": \"system\",\n",
    "            \"content\": \"You are now connected to the Azure OpenAI chat service. You can start sending messages to the bot.\"\n",
    "        },\n",
    "        {\n",
    "            \"role\": \"user\",\n",
    "            \"content\": \"Hello, I am a user.\"\n",
    "        },\n",
    "        {\n",
    "            \"role\": \"system\",\n",
    "            \"content\": \"Hello, I am a bot.\"\n",
    "        }\n",
    "    ]\n",
    "    \n",
    "    completion = client.chat.completions.create(\n",
    "        model = \"gpt-4\",\n",
    "        messages = message_text,\n",
    "        temperature=0.7,\n",
    "        max_tokens=150,\n",
    "        top_p=0.95,\n",
    "        frequency_penalty=0.0,\n",
    "        presence_penalty=0.0,\n",
    "        stop = None\n",
    "    )\n",
    "    \n",
    "    print(completion.choices[0].message.content)\n",
    "    # print(completion.choices[0].message[\"content\"])\n",
    "    \n",
    "except openai.APIError as e:\n",
    "    print(f\"OpenAI API returned and error: {e}\")\n",
    "except Exception as e:\n",
    "    print(f\"An error occurred: {e}\")"
   ],
   "metadata": {
    "collapsed": false,
    "ExecuteTime": {
     "end_time": "2024-03-06T02:32:07.810967Z",
     "start_time": "2024-03-06T02:32:04.598532Z"
    }
   },
   "id": "48e8737c7cc22a0b",
   "execution_count": 3
  }
 ],
 "metadata": {
  "kernelspec": {
   "display_name": "Python 3",
   "language": "python",
   "name": "python3"
  },
  "language_info": {
   "codemirror_mode": {
    "name": "ipython",
    "version": 2
   },
   "file_extension": ".py",
   "mimetype": "text/x-python",
   "name": "python",
   "nbconvert_exporter": "python",
   "pygments_lexer": "ipython2",
   "version": "2.7.6"
  }
 },
 "nbformat": 4,
 "nbformat_minor": 5
}
